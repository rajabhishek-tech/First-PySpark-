{
 "cells": [
  {
   "cell_type": "code",
   "execution_count": 1,
   "id": "774eb48b",
   "metadata": {},
   "outputs": [],
   "source": [
    "import pyspark"
   ]
  },
  {
   "cell_type": "code",
   "execution_count": 2,
   "id": "ecda6a63",
   "metadata": {},
   "outputs": [],
   "source": [
    "from pyspark.sql import SparkSession"
   ]
  },
  {
   "cell_type": "code",
   "execution_count": 3,
   "id": "926a28ba",
   "metadata": {},
   "outputs": [],
   "source": [
    "spark=SparkSession.builder.appName('firstone').getOrCreate()"
   ]
  },
  {
   "cell_type": "code",
   "execution_count": 4,
   "id": "d0e2f5bc",
   "metadata": {},
   "outputs": [
    {
     "data": {
      "text/html": [
       "\n",
       "            <div>\n",
       "                <p><b>SparkSession - in-memory</b></p>\n",
       "                \n",
       "        <div>\n",
       "            <p><b>SparkContext</b></p>\n",
       "\n",
       "            <p><a href=\"http://LAPTOP-73AVDGTK.mshome.net:4040\">Spark UI</a></p>\n",
       "\n",
       "            <dl>\n",
       "              <dt>Version</dt>\n",
       "                <dd><code>v3.5.0</code></dd>\n",
       "              <dt>Master</dt>\n",
       "                <dd><code>local[*]</code></dd>\n",
       "              <dt>AppName</dt>\n",
       "                <dd><code>firstone</code></dd>\n",
       "            </dl>\n",
       "        </div>\n",
       "        \n",
       "            </div>\n",
       "        "
      ],
      "text/plain": [
       "<pyspark.sql.session.SparkSession at 0x147cc493410>"
      ]
     },
     "execution_count": 4,
     "metadata": {},
     "output_type": "execute_result"
    }
   ],
   "source": [
    "spark"
   ]
  },
  {
   "cell_type": "code",
   "execution_count": 5,
   "id": "06903bdf",
   "metadata": {},
   "outputs": [],
   "source": [
    "df_pyspark=spark.read.option('header','true').csv('mobile.csv',inferSchema=True)"
   ]
  },
  {
   "cell_type": "code",
   "execution_count": 6,
   "id": "9f732dd8",
   "metadata": {},
   "outputs": [
    {
     "name": "stdout",
     "output_type": "stream",
     "text": [
      "root\n",
      " |-- Manufacturer: string (nullable = true)\n",
      " |-- Model: string (nullable = true)\n",
      " |-- Form factor: string (nullable = true)\n",
      " |-- Smartphone?: string (nullable = true)\n",
      " |-- Year: integer (nullable = true)\n",
      " |-- Graph (million units): string (nullable = true)\n",
      " |-- Graph (million units).1: string (nullable = true)\n",
      "\n"
     ]
    }
   ],
   "source": [
    "df_pyspark.printSchema()"
   ]
  },
  {
   "cell_type": "code",
   "execution_count": 7,
   "id": "61a88b45",
   "metadata": {},
   "outputs": [
    {
     "name": "stdout",
     "output_type": "stream",
     "text": [
      "+------------+--------------------+-----------+-----------+----+---------------------+-----------------------+\n",
      "|Manufacturer|               Model|Form factor|Smartphone?|Year|Graph (million units)|Graph (million units).1|\n",
      "+------------+--------------------+-----------+-----------+----+---------------------+-----------------------+\n",
      "|       Nokia|                1100|        Bar|         No|2003|         250[4][1][5]|                   NULL|\n",
      "|       Nokia|                1110|        Bar|         No|2005|       247.5[4][1][6]|                   NULL|\n",
      "|       Apple|iPhone 6 and iPho...|Touchscreen|        Yes|2014|             222.4[7]|                   NULL|\n",
      "|       Nokia|         105 series,|        Bar|         No|2013|               200[8]|                   NULL|\n",
      "|       Apple|iPhone 6S and iPh...|Touchscreen|        Yes|2015| 174.1[9][10][11][12]|                   NULL|\n",
      "|       Apple|           iPhone 5S|Touchscreen|        Yes|2013|             164.5[7]|                   NULL|\n",
      "|       Nokia|                3210|        Bar|         No|1999|        161[1][6][13]|                   NULL|\n",
      "|       Apple|iPhone 7 and iPho...|Touchscreen|        Yes|2016| 159.9[11][14][15]...|                   NULL|\n",
      "|       Apple|iPhone 11, iPhone...|Touchscreen|        Yes|2019|    159.2[18][19][20]|                   NULL|\n",
      "|       Apple|iPhone XR, iPhone...|Touchscreen|        Yes|2018|        151.1[21][19]|                   NULL|\n",
      "|       Nokia|                6600|        Bar|        Yes|2003|            150[4][1]|                   NULL|\n",
      "|       Nokia|                1200|        Bar|         No|2007|         150[4][1][6]|                   NULL|\n",
      "|       Nokia|                5230|Touchscreen|        Yes|2009|         150[4][1][6]|                   NULL|\n",
      "|     Samsung|               E1100|        Bar|         No|2009|               150[4]|                   NULL|\n",
      "|       Apple|            iPhone 5|Touchscreen|        Yes|2012|             146.2[7]|                   NULL|\n",
      "|       Nokia|2600 (2610/2626/2...|        Bar|         No|2004|      135[4][1][6][5]|                   NULL|\n",
      "|    Motorola|             RAZR V3| Flip phone|         No|2004|            130[4][6]|                   NULL|\n",
      "|       Nokia|    1600 (1650/1661)|        Bar|         No|2005|      130[4][1][6][5]|                   NULL|\n",
      "|       Nokia|         3310 (3330)|        Bar|         No|2000|     126[4][1][6][22]|                   NULL|\n",
      "|       Apple|iPhone 8 and iPho...|Touchscreen|        Yes|2017| 124.7[23][19][16]...|                   NULL|\n",
      "+------------+--------------------+-----------+-----------+----+---------------------+-----------------------+\n",
      "only showing top 20 rows\n",
      "\n"
     ]
    }
   ],
   "source": [
    "df_pyspark=spark.read.csv('mobile.csv',header=True,inferSchema=True)\n",
    "df_pyspark.show()"
   ]
  },
  {
   "cell_type": "code",
   "execution_count": 8,
   "id": "dfce68cd",
   "metadata": {},
   "outputs": [
    {
     "data": {
      "text/plain": [
       "pyspark.sql.dataframe.DataFrame"
      ]
     },
     "execution_count": 8,
     "metadata": {},
     "output_type": "execute_result"
    }
   ],
   "source": [
    "type(df_pyspark)"
   ]
  },
  {
   "cell_type": "code",
   "execution_count": 9,
   "id": "df63570e",
   "metadata": {},
   "outputs": [
    {
     "name": "stdout",
     "output_type": "stream",
     "text": [
      "+----+\n",
      "|Year|\n",
      "+----+\n",
      "|2003|\n",
      "|2005|\n",
      "|2014|\n",
      "|2013|\n",
      "|2015|\n",
      "|2013|\n",
      "|1999|\n",
      "|2016|\n",
      "|2019|\n",
      "|2018|\n",
      "|2003|\n",
      "|2007|\n",
      "|2009|\n",
      "|2009|\n",
      "|2012|\n",
      "|2004|\n",
      "|2004|\n",
      "|2005|\n",
      "|2000|\n",
      "|2017|\n",
      "+----+\n",
      "only showing top 20 rows\n",
      "\n"
     ]
    }
   ],
   "source": [
    "df_pyspark.select('Year').show()"
   ]
  },
  {
   "cell_type": "code",
   "execution_count": 10,
   "id": "7eda8b6e",
   "metadata": {},
   "outputs": [
    {
     "data": {
      "text/plain": [
       "[('Manufacturer', 'string'),\n",
       " ('Model', 'string'),\n",
       " ('Form factor', 'string'),\n",
       " ('Smartphone?', 'string'),\n",
       " ('Year', 'int'),\n",
       " ('Graph (million units)', 'string'),\n",
       " ('Graph (million units).1', 'string')]"
      ]
     },
     "execution_count": 10,
     "metadata": {},
     "output_type": "execute_result"
    }
   ],
   "source": [
    "df_pyspark.dtypes"
   ]
  },
  {
   "cell_type": "code",
   "execution_count": 13,
   "id": "15e86dda",
   "metadata": {},
   "outputs": [],
   "source": [
    "df_pyspark=df_pyspark.drop('Graph (million units)','Graph (million units).1')"
   ]
  },
  {
   "cell_type": "code",
   "execution_count": 14,
   "id": "a497b43e",
   "metadata": {},
   "outputs": [],
   "source": [
    "#df_pyspark = df_pyspark.drop('Graph (million units)','Graph (million units).1').show()"
   ]
  },
  {
   "cell_type": "code",
   "execution_count": 15,
   "id": "5ae85fe6",
   "metadata": {},
   "outputs": [
    {
     "name": "stdout",
     "output_type": "stream",
     "text": [
      "+------------+--------------------+-----------+-----------+----+\n",
      "|Manufacturer|               Model|Form factor|Smartphone?|Year|\n",
      "+------------+--------------------+-----------+-----------+----+\n",
      "|       Nokia|                1100|        Bar|         No|2003|\n",
      "|       Nokia|                1110|        Bar|         No|2005|\n",
      "|       Apple|iPhone 6 and iPho...|Touchscreen|        Yes|2014|\n",
      "|       Nokia|         105 series,|        Bar|         No|2013|\n",
      "|       Apple|iPhone 6S and iPh...|Touchscreen|        Yes|2015|\n",
      "|       Apple|           iPhone 5S|Touchscreen|        Yes|2013|\n",
      "|       Nokia|                3210|        Bar|         No|1999|\n",
      "|       Apple|iPhone 7 and iPho...|Touchscreen|        Yes|2016|\n",
      "|       Apple|iPhone 11, iPhone...|Touchscreen|        Yes|2019|\n",
      "|       Apple|iPhone XR, iPhone...|Touchscreen|        Yes|2018|\n",
      "|       Nokia|                6600|        Bar|        Yes|2003|\n",
      "|       Nokia|                1200|        Bar|         No|2007|\n",
      "|       Nokia|                5230|Touchscreen|        Yes|2009|\n",
      "|     Samsung|               E1100|        Bar|         No|2009|\n",
      "|       Apple|            iPhone 5|Touchscreen|        Yes|2012|\n",
      "|       Nokia|2600 (2610/2626/2...|        Bar|         No|2004|\n",
      "|    Motorola|             RAZR V3| Flip phone|         No|2004|\n",
      "|       Nokia|    1600 (1650/1661)|        Bar|         No|2005|\n",
      "|       Nokia|         3310 (3330)|        Bar|         No|2000|\n",
      "|       Apple|iPhone 8 and iPho...|Touchscreen|        Yes|2017|\n",
      "+------------+--------------------+-----------+-----------+----+\n",
      "only showing top 20 rows\n",
      "\n"
     ]
    }
   ],
   "source": [
    "df_pyspark.show()"
   ]
  },
  {
   "cell_type": "code",
   "execution_count": 17,
   "id": "f5faade0",
   "metadata": {},
   "outputs": [
    {
     "name": "stdout",
     "output_type": "stream",
     "text": [
      "+------------+-----------+-----------+-----------+----+\n",
      "|Manufacturer|      Model|Form factor|Smartphone?|Year|\n",
      "+------------+-----------+-----------+-----------+----+\n",
      "|       Nokia|       1100|        Bar|         No|2003|\n",
      "|       Nokia|       6600|        Bar|        Yes|2003|\n",
      "|    Motorola|       C200|        Bar|         No|2003|\n",
      "|       Nokia|3100 (3120)|        Bar|         No|2003|\n",
      "|       Nokia|       2100|        Bar|         No|2003|\n",
      "|     Samsung|   SGH-E700| Flip phone|         No|2003|\n",
      "|       Nokia|     N-Gage|       Taco|        Yes|2003|\n",
      "+------------+-----------+-----------+-----------+----+\n",
      "\n"
     ]
    }
   ],
   "source": [
    "df_pyspark.filter(\"Year=2003\").show()"
   ]
  },
  {
   "cell_type": "code",
   "execution_count": 18,
   "id": "64526dbc",
   "metadata": {},
   "outputs": [
    {
     "name": "stdout",
     "output_type": "stream",
     "text": [
      "+-------------+--------------------+-----------+-----------+----+\n",
      "| Manufacturer|               Model|Form factor|Smartphone?|Year|\n",
      "+-------------+--------------------+-----------+-----------+----+\n",
      "|        Nokia|2600 (2610/2626/2...|        Bar|         No|2004|\n",
      "|     Motorola|             RAZR V3| Flip phone|         No|2004|\n",
      "|        Nokia|    6010 (6020/6030)|        Bar|         No|2004|\n",
      "|        Nokia|         6230 (6233)|        Bar|         No|2004|\n",
      "|        Nokia|                2650| Flip phone|         No|2004|\n",
      "|Sony Ericsson|         K300 (K310)|        Bar|         No|2004|\n",
      "+-------------+--------------------+-----------+-----------+----+\n",
      "\n"
     ]
    }
   ],
   "source": [
    "df_pyspark.filter(\"Year=2004\").show()"
   ]
  },
  {
   "cell_type": "code",
   "execution_count": 27,
   "id": "60701fbd",
   "metadata": {},
   "outputs": [
    {
     "name": "stdout",
     "output_type": "stream",
     "text": [
      "+--------------------+--------------------+------------+-----------+----+\n",
      "|        Manufacturer|               Model| Form factor|Smartphone?|Year|\n",
      "+--------------------+--------------------+------------+-----------+----+\n",
      "|               Apple|iPhone 6 and iPho...| Touchscreen|        Yes|2014|\n",
      "|               Apple|iPhone 6S and iPh...| Touchscreen|        Yes|2015|\n",
      "|               Apple|           iPhone 5S| Touchscreen|        Yes|2013|\n",
      "|               Apple|iPhone 7 and iPho...| Touchscreen|        Yes|2016|\n",
      "|               Apple|iPhone 11, iPhone...| Touchscreen|        Yes|2019|\n",
      "|               Apple|iPhone XR, iPhone...| Touchscreen|        Yes|2018|\n",
      "|               Nokia|                6600|         Bar|        Yes|2003|\n",
      "|               Nokia|                5230| Touchscreen|        Yes|2009|\n",
      "|               Apple|            iPhone 5| Touchscreen|        Yes|2012|\n",
      "|               Apple|iPhone 8 and iPho...| Touchscreen|        Yes|2017|\n",
      "|               Apple|Apple iPhone 12, ...| Touchscreen|        Yes|2020|\n",
      "|             Samsung|Galaxy S III and ...| Touchscreen|        Yes|2012|\n",
      "|             Samsung|           Galaxy S4| Touchscreen|        Yes|2013|\n",
      "|               Apple|            iPhone X| Touchscreen|        Yes|2017|\n",
      "|               Apple|           iPhone 4S| Touchscreen|        Yes|2011|\n",
      "|             Samsung|Galaxy S7 and Gal...| Touchscreen|        Yes|2016|\n",
      "|               Apple|            iPhone 4| Touchscreen|        Yes|2010|\n",
      "|             Samsung|Galaxy S6 and Gal...| Touchscreen|        Yes|2015|\n",
      "|               Nokia|       N70 (N72/N73)|         Bar|        Yes|2005|\n",
      "|             Samsung|Galaxy S8 and Gal...| Touchscreen|        Yes|2017|\n",
      "|             Samsung|         Galaxy S II| Touchscreen|        Yes|2011|\n",
      "|             Samsung|Galaxy S10, Galax...| Touchscreen|        Yes|2019|\n",
      "|             Samsung|Galaxy S9 and Gal...| Touchscreen|        Yes|2018|\n",
      "|               Apple|          iPhone 3GS| Touchscreen|        Yes|2009|\n",
      "|              Huawei|P20, P20 Pro and ...| Touchscreen|        Yes|2018|\n",
      "|             Samsung|          Galaxy A10| Touchscreen|        Yes|2019|\n",
      "|             Samsung|      Galaxy Note II| Touchscreen|        Yes|2012|\n",
      "|              Xiaomi|Redmi Note 8 and ...| Touchscreen|        Yes|2019|\n",
      "|               Apple|   iPhone 12 Pro Max| Touchscreen|        Yes|2020|\n",
      "|             Samsung|Galaxy S20, Galax...| Touchscreen|        Yes|2020|\n",
      "|             Samsung|            Galaxy S| Touchscreen|        Yes|2010|\n",
      "|             Samsung|Galaxy Grand Prim...| Touchscreen|        Yes|2016|\n",
      "|             Samsung|          Galaxy A50| Touchscreen|        Yes|2019|\n",
      "|               Apple|iPhone SE (2nd ge...| Touchscreen|        Yes|2020|\n",
      "|             Samsung|          Galaxy A51| Touchscreen|        Yes|2019|\n",
      "|             Samsung|          Galaxy A20| Touchscreen|        Yes|2019|\n",
      "|              Xiaomi|Redmi Note 7 and ...| Touchscreen|        Yes|2019|\n",
      "|              Huawei|     P30 and P30 Pro| Touchscreen|        Yes|2019|\n",
      "|             Samsung|         Galaxy A21s| Touchscreen|        Yes|2020|\n",
      "|              Huawei|Mate 10 and Mate ...| Touchscreen|        Yes|2017|\n",
      "|              Huawei|Mate 20 and Mate ...| Touchscreen|        Yes|2018|\n",
      "|             Samsung|          Galaxy A01| Touchscreen|        Yes|2019|\n",
      "|                 HTC|         Thunderbolt| Touchscreen|        Yes|2011|\n",
      "|              Huawei|              Mate 9| Touchscreen|        Yes|2016|\n",
      "|             Samsung|          Galaxy A11| Touchscreen|        Yes|2020|\n",
      "|             Samsung|      Galaxy J2 Core| Touchscreen|        Yes|2018|\n",
      "|               Nokia|    5800 XpressMusic| Touchscreen|        Yes|2008|\n",
      "|               Nokia|                 E71|Keyboard bar|        Yes|2008|\n",
      "|Research In Motio...|    BlackBerry Pearl|         Bar|        Yes|2006|\n",
      "|              Xiaomi|    Redmi Note 9 Pro| Touchscreen|        Yes|2020|\n",
      "|             Samsung|Galaxy S21, Galax...| Touchscreen|        Yes|2021|\n",
      "|            Motorola|        Droid Bionic| Touchscreen|        Yes|2011|\n",
      "|              Huawei|Mate 30 and Mate ...| Touchscreen|        Yes|2019|\n",
      "|             Samsung|    Galaxy S22 Ultra| Touchscreen|        Yes|2022|\n",
      "|               Nokia|                 N95|      Slider|        Yes|2007|\n",
      "|             Samsung|         Galaxy Note| Touchscreen|        Yes|2011|\n",
      "|              Xiaomi|                Mi 2| Touchscreen|        Yes|2012|\n",
      "|             Samsung|       Galaxy Note 3| Touchscreen|        Yes|2013|\n",
      "|                  LG|                  G3| Touchscreen|        Yes|2014|\n",
      "|             Samsung|       Galaxy Note 8| Touchscreen|        Yes|2017|\n",
      "|              Xiaomi|            Redmi 6A| Touchscreen|        Yes|2019|\n",
      "|             Samsung|       Galaxy S20 FE| Touchscreen|        Yes|2020|\n",
      "|                Oppo|                  A5| Touchscreen|        Yes|2019|\n",
      "|             Samsung|       Galaxy Note 9| Touchscreen|        Yes|2018|\n",
      "|             Samsung|          Galaxy A30| Touchscreen|        Yes|2019|\n",
      "|              Xiaomi|            Redmi 8A| Touchscreen|        Yes|2019|\n",
      "|                Oppo|             F1 Plus| Touchscreen|        Yes|2016|\n",
      "|              Xiaomi|             Redmi 8| Touchscreen|        Yes|2019|\n",
      "|             Samsung|          Galaxy J4+| Touchscreen|        Yes|2018|\n",
      "|               Apple|              iPhone| Touchscreen|        Yes|2007|\n",
      "|             Samsung|          Galaxy J6+| Touchscreen|        Yes|2018|\n",
      "|             Samsung|       Galaxy Note 4| Touchscreen|        Yes|2014|\n",
      "|             Samsung|         Galaxy A10s| Touchscreen|        Yes|2019|\n",
      "|             Samsung|         Galaxy A30s| Touchscreen|        Yes|2019|\n",
      "|               Nokia|              N-Gage|        Taco|        Yes|2003|\n",
      "|                  LG|                  G2| Touchscreen|        Yes|2013|\n",
      "|                LeTV|         LeEco Le 1s| Touchscreen|        Yes|2016|\n",
      "|              Google|  Pixel and Pixel XL| Touchscreen|        Yes|2016|\n",
      "|                Palm|              Centro|Keyboard bar|        Yes|2007|\n",
      "|               Nokia|                 N97| Tilt slider|        Yes|2009|\n",
      "+--------------------+--------------------+------------+-----------+----+\n",
      "\n"
     ]
    }
   ],
   "source": [
    "df_pyspark.filter(\"`Smartphone?` = 'Yes'\").show(100)"
   ]
  },
  {
   "cell_type": "code",
   "execution_count": 25,
   "id": "a46ff794",
   "metadata": {},
   "outputs": [
    {
     "name": "stdout",
     "output_type": "stream",
     "text": [
      "+-------------+--------------------+-----------+-----------+----+\n",
      "| Manufacturer|               Model|Form factor|Smartphone?|Year|\n",
      "+-------------+--------------------+-----------+-----------+----+\n",
      "|        Nokia|                1100|        Bar|         No|2003|\n",
      "|        Nokia|                1110|        Bar|         No|2005|\n",
      "|        Nokia|         105 series,|        Bar|         No|2013|\n",
      "|        Nokia|                3210|        Bar|         No|1999|\n",
      "|        Nokia|                1200|        Bar|         No|2007|\n",
      "|      Samsung|               E1100|        Bar|         No|2009|\n",
      "|        Nokia|2600 (2610/2626/2...|        Bar|         No|2004|\n",
      "|     Motorola|             RAZR V3| Flip phone|         No|2004|\n",
      "|        Nokia|    1600 (1650/1661)|        Bar|         No|2005|\n",
      "|        Nokia|         3310 (3330)|        Bar|         No|2000|\n",
      "|        Nokia|         1208 (1209)|        Bar|         No|2007|\n",
      "|        Nokia|                1280|        Bar|         No|2010|\n",
      "|        Nokia|    6010 (6020/6030)|        Bar|         No|2004|\n",
      "|        Nokia|    5130 (5220/5310)|        Bar|         No|2007|\n",
      "|     Motorola|             StarTAC| Flip phone|         No|1996|\n",
      "|     Motorola|                C200|        Bar|         No|2003|\n",
      "|     Motorola|                C139|        Bar|         No|2005|\n",
      "|        Nokia|         3100 (3120)|        Bar|         No|2003|\n",
      "|        Nokia|         6230 (6233)|        Bar|         No|2004|\n",
      "|        Nokia|                6300|        Bar|         No|2006|\n",
      "|        Nokia|                2650| Flip phone|         No|2004|\n",
      "|      Samsung|                E250|     Slider|         No|2006|\n",
      "|           LG|               KP100|        Bar|         No|2008|\n",
      "|        Nokia|         5200 (5300)|     Slider|         No|2006|\n",
      "|           LG|    Chocolate VX8500|     Slider|         No|2006|\n",
      "|        Nokia|                2100|        Bar|         No|2003|\n",
      "|        Nokia|    5610 XpressMusic|     Slider|         No|2007|\n",
      "|Sony Ericsson|         K300 (K310)|        Bar|         No|2004|\n",
      "|Sony Ericsson|                K750|        Bar|         No|2005|\n",
      "|Sony Ericsson|         W800 (W810)|        Bar|         No|2006|\n",
      "|           LG|      Cookie (KP500)|Touchscreen|         No|2009|\n",
      "|      Samsung|            SGH-E700| Flip phone|         No|2003|\n",
      "|           LG|               Shine|     Slider|         No|2008|\n",
      "|      Samsung|Star/Tocco Lite (...|Touchscreen|         No|2009|\n",
      "|           LG|      Viewty (KU990)|        Bar|         No|2007|\n",
      "+-------------+--------------------+-----------+-----------+----+\n",
      "\n"
     ]
    }
   ],
   "source": [
    "df_pyspark.filter(\"`Smartphone?` = 'No'\").show(50)"
   ]
  },
  {
   "cell_type": "code",
   "execution_count": 22,
   "id": "919efeb0",
   "metadata": {},
   "outputs": [
    {
     "name": "stdout",
     "output_type": "stream",
     "text": [
      "+--------------------+-----+\n",
      "|        Manufacturer|count|\n",
      "+--------------------+-----+\n",
      "|               Nokia|   27|\n",
      "|            Motorola|    5|\n",
      "|              Huawei|    6|\n",
      "|              Xiaomi|    7|\n",
      "|                Palm|    1|\n",
      "|Research In Motio...|    1|\n",
      "|                Oppo|    2|\n",
      "|             Samsung|   37|\n",
      "|                 HTC|    1|\n",
      "|              Google|    1|\n",
      "|                  LG|    7|\n",
      "|               Apple|   16|\n",
      "|       Sony Ericsson|    3|\n",
      "|                LeTV|    1|\n",
      "+--------------------+-----+\n",
      "\n"
     ]
    }
   ],
   "source": [
    "df_pyspark.groupBy('Manufacturer').count().show()"
   ]
  },
  {
   "cell_type": "code",
   "execution_count": 23,
   "id": "b133374f",
   "metadata": {},
   "outputs": [
    {
     "name": "stdout",
     "output_type": "stream",
     "text": [
      "+------------+-----+\n",
      "| Form factor|count|\n",
      "+------------+-----+\n",
      "|         Bar|   27|\n",
      "|  Flip phone|    4|\n",
      "| Touchscreen|   74|\n",
      "|        Taco|    1|\n",
      "|Keyboard bar|    2|\n",
      "| Tilt slider|    1|\n",
      "|      Slider|    6|\n",
      "+------------+-----+\n",
      "\n"
     ]
    }
   ],
   "source": [
    "df_pyspark.groupBy('Form factor').count().show()"
   ]
  },
  {
   "cell_type": "code",
   "execution_count": 26,
   "id": "f03e671e",
   "metadata": {},
   "outputs": [
    {
     "name": "stdout",
     "output_type": "stream",
     "text": [
      "+-----------+-----+\n",
      "|Smartphone?|count|\n",
      "+-----------+-----+\n",
      "|         No|   35|\n",
      "|        Yes|   80|\n",
      "+-----------+-----+\n",
      "\n"
     ]
    }
   ],
   "source": [
    "df_pyspark.groupBy('Smartphone?').count().show()"
   ]
  },
  {
   "cell_type": "code",
   "execution_count": 28,
   "id": "75e1f6cc",
   "metadata": {},
   "outputs": [
    {
     "name": "stdout",
     "output_type": "stream",
     "text": [
      "+----+-----+\n",
      "|Year|count|\n",
      "+----+-----+\n",
      "|2003|    7|\n",
      "|2007|    8|\n",
      "|2018|    8|\n",
      "|2015|    2|\n",
      "|2006|    6|\n",
      "|2022|    1|\n",
      "|2013|    5|\n",
      "|2014|    3|\n",
      "|2019|   18|\n",
      "|2004|    6|\n",
      "|1996|    1|\n",
      "|2020|    8|\n",
      "|2012|    4|\n",
      "|2009|    6|\n",
      "|2016|    7|\n",
      "|2005|    5|\n",
      "|2000|    1|\n",
      "|2010|    3|\n",
      "|2011|    5|\n",
      "|2008|    4|\n",
      "+----+-----+\n",
      "only showing top 20 rows\n",
      "\n"
     ]
    }
   ],
   "source": [
    "df_pyspark.groupBy('Year').count().show()"
   ]
  }
 ],
 "metadata": {
  "kernelspec": {
   "display_name": "Python 3 (ipykernel)",
   "language": "python",
   "name": "python3"
  },
  "language_info": {
   "codemirror_mode": {
    "name": "ipython",
    "version": 3
   },
   "file_extension": ".py",
   "mimetype": "text/x-python",
   "name": "python",
   "nbconvert_exporter": "python",
   "pygments_lexer": "ipython3",
   "version": "3.11.5"
  }
 },
 "nbformat": 4,
 "nbformat_minor": 5
}
